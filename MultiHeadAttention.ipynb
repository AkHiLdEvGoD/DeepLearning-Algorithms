{
  "nbformat": 4,
  "nbformat_minor": 0,
  "metadata": {
    "colab": {
      "provenance": [],
      "authorship_tag": "ABX9TyNKnxTbU3cMsraah79uZo0n",
      "include_colab_link": true
    },
    "kernelspec": {
      "name": "python3",
      "display_name": "Python 3"
    },
    "language_info": {
      "name": "python"
    }
  },
  "cells": [
    {
      "cell_type": "markdown",
      "metadata": {
        "id": "view-in-github",
        "colab_type": "text"
      },
      "source": [
        "<a href=\"https://colab.research.google.com/github/AkHiLdEvGoD/DeepLearning-Algorithms/blob/main/MultiHeadAttention.ipynb\" target=\"_parent\"><img src=\"https://colab.research.google.com/assets/colab-badge.svg\" alt=\"Open In Colab\"/></a>"
      ]
    },
    {
      "cell_type": "code",
      "execution_count": 23,
      "metadata": {
        "id": "dUU8wLHVlqf0"
      },
      "outputs": [],
      "source": [
        "import torch\n",
        "import torch.nn as nn\n",
        "import torch.nn.functional as F\n",
        "import math"
      ]
    },
    {
      "cell_type": "code",
      "source": [
        "embd_dims = 32\n",
        "batch_size = 4\n",
        "seq_len = 8"
      ],
      "metadata": {
        "id": "FNwX0rrDltaX"
      },
      "execution_count": 9,
      "outputs": []
    },
    {
      "cell_type": "code",
      "source": [
        "class MultiHeadAttention(nn.Module):\n",
        "  def __init__(self,embd_dims,attn_heads):\n",
        "    super().__init__()\n",
        "\n",
        "    self.H = attn_heads\n",
        "\n",
        "    self.Wk = nn.Linear(embd_dims,embd_dims)\n",
        "    self.Wq = nn.Linear(embd_dims,embd_dims)\n",
        "    self.Wv = nn.Linear(embd_dims,embd_dims)\n",
        "\n",
        "    self.out_proj = nn.Linear(embd_dims,embd_dims)\n",
        "\n",
        "  def forward(self,X):\n",
        "    B,S,D = X.shape\n",
        "\n",
        "    Q = self.Wq(X)\n",
        "    K = self.Wk(X)\n",
        "    V = self.Wv(X)\n",
        "\n",
        "    Dh = Q.shape[2]//self.H\n",
        "\n",
        "    def split_heads(t):\n",
        "      return t.view(B,S,self.H,Dh).transpose(1,2)\n",
        "\n",
        "    Q = split_heads(Q)\n",
        "    K = split_heads(K)\n",
        "    V = split_heads(V)\n",
        "\n",
        "    attn_scores = torch.matmul(Q,K.transpose(-2,-1))/math.sqrt(Dh)\n",
        "    attn_weights = F.softmax(attn_scores,dim=-1)\n",
        "\n",
        "    attn_output = torch.matmul(attn_weights,V)\n",
        "\n",
        "    attn_output = attn_output.transpose(1,2).contiguous()\n",
        "    attn_output = attn_output.view(B,S,D)\n",
        "\n",
        "    outputs = self.out_proj(attn_output)\n",
        "    return outputs"
      ],
      "metadata": {
        "id": "h-WMYVMll0Mv"
      },
      "execution_count": 25,
      "outputs": []
    },
    {
      "cell_type": "code",
      "source": [
        "X = torch.randn(batch_size,seq_len,embd_dims)\n",
        "mha = MultiHeadAttention(embd_dims,4)\n",
        "outs = mha(X)\n",
        "print(X.shape)\n",
        "print(outs.shape)"
      ],
      "metadata": {
        "colab": {
          "base_uri": "https://localhost:8080/"
        },
        "id": "9IHS5jxQteua",
        "outputId": "92e01eb6-8246-432a-a6d9-cd512a7db8ac"
      },
      "execution_count": 26,
      "outputs": [
        {
          "output_type": "stream",
          "name": "stdout",
          "text": [
            "torch.Size([4, 8, 32])\n",
            "torch.Size([4, 8, 32])\n"
          ]
        }
      ]
    }
  ]
}