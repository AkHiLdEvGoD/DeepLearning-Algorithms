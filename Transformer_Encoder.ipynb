{
  "nbformat": 4,
  "nbformat_minor": 0,
  "metadata": {
    "colab": {
      "provenance": [],
      "authorship_tag": "ABX9TyMvsPjzyEmcZpXOp4TB2qN9",
      "include_colab_link": true
    },
    "kernelspec": {
      "name": "python3",
      "display_name": "Python 3"
    },
    "language_info": {
      "name": "python"
    }
  },
  "cells": [
    {
      "cell_type": "markdown",
      "metadata": {
        "id": "view-in-github",
        "colab_type": "text"
      },
      "source": [
        "<a href=\"https://colab.research.google.com/github/AkHiLdEvGoD/DeepLearning-Algorithms/blob/main/Transformer_Encoder.ipynb\" target=\"_parent\"><img src=\"https://colab.research.google.com/assets/colab-badge.svg\" alt=\"Open In Colab\"/></a>"
      ]
    },
    {
      "cell_type": "code",
      "execution_count": 36,
      "metadata": {
        "id": "R0Yf4vM6HPgq"
      },
      "outputs": [],
      "source": [
        "import torch\n",
        "import torch.nn as nn\n",
        "import torch.optim as optim\n",
        "import math\n",
        "from tqdm import tqdm"
      ]
    },
    {
      "cell_type": "code",
      "source": [
        "def attention(Q,K,V):\n",
        "  d_k = Q.size(-1)\n",
        "  scores = torch.matmul(Q,K.transpose(-2,-1))/math.sqrt(d_k)\n",
        "  weights = torch.softmax(scores,dim=-1)\n",
        "  return torch.matmul(weights,V)"
      ],
      "metadata": {
        "id": "YXdMOTDwQABx"
      },
      "execution_count": 20,
      "outputs": []
    },
    {
      "cell_type": "code",
      "source": [
        "class MultiHeadAttention(nn.Module):\n",
        "  def __init__(self,n_heads,d_model):\n",
        "    super().__init__()\n",
        "    assert d_model % n_heads == 0\n",
        "    self.d_head = d_model // n_heads\n",
        "    self.h = n_heads\n",
        "    self.linear_Q = nn.Linear(d_model,d_model)\n",
        "    self.linear_K = nn.Linear(d_model,d_model)\n",
        "    self.linear_V = nn.Linear(d_model,d_model)\n",
        "    self.final_projection = nn.Linear(d_model,d_model)\n",
        "\n",
        "  def forward(self,x):\n",
        "    B,T,D = x.size()\n",
        "    Q_head =  self.linear_Q(x).view(B,T,self.h,self.d_head).transpose(1,2)  #(B,H,T,D)\n",
        "    K_head =  self.linear_K(x).view(B,T,self.h,self.d_head).transpose(1,2)  #(B,H,T,D)\n",
        "    V_head =  self.linear_V(x).view(B,T,self.h,self.d_head).transpose(1,2)  #(B,H,T,D)\n",
        "\n",
        "    x = attention(Q_head,K_head,V_head)  #(B,H,T,D)\n",
        "    x = x.transpose(1,2).contiguous().view(B,T,D)\n",
        "    return self.final_projection(x)"
      ],
      "metadata": {
        "id": "GrVIGtOaNCtR"
      },
      "execution_count": 21,
      "outputs": []
    },
    {
      "cell_type": "code",
      "source": [
        "class FeedForward(nn.Module):\n",
        "  def __init__(self,d_model,d_ff,dropout=0.1):\n",
        "    super().__init__()\n",
        "    self.ff = nn.Sequential(\n",
        "        nn.Linear(d_model,d_ff),\n",
        "        nn.ReLU(),\n",
        "        nn.Linear(d_ff,d_model),\n",
        "        nn.Dropout(dropout)\n",
        "    )\n",
        "\n",
        "  def forward(self,x):\n",
        "    return self.ff(x)"
      ],
      "metadata": {
        "id": "JjKXVh8ZHb6W"
      },
      "execution_count": 29,
      "outputs": []
    },
    {
      "cell_type": "code",
      "source": [
        "class EncoderLayer(nn.Module):\n",
        "  def __init__(self,d_model,heads,d_ff,dropout=0.1):\n",
        "    super().__init__()\n",
        "    self.Attention = MultiHeadAttention(heads,d_model)\n",
        "    self.FeedForward = FeedForward(d_model,d_ff,dropout)\n",
        "    self.norm1 = nn.LayerNorm(d_model)\n",
        "    self.norm2 = nn.LayerNorm(d_model)\n",
        "    self.dropout = nn.Dropout(dropout)\n",
        "\n",
        "  def forward(self,x):\n",
        "    Z_norm = self.norm1(x + self.dropout(self.Attention(x)))\n",
        "    Y_norm = self.norm2(Z_norm + self.dropout(self.FeedForward(x)))\n",
        "    return Y_norm"
      ],
      "metadata": {
        "id": "KlHRQOFAbYS7"
      },
      "execution_count": 30,
      "outputs": []
    },
    {
      "cell_type": "code",
      "source": [
        "class PositionalEncoding(nn.Module):\n",
        "  def __init__(self,embd_dims,max_len=5000):\n",
        "    super().__init__()\n",
        "    self.pe = torch.zeros(max_len,embd_dims)\n",
        "    pos = torch.arange(0,max_len).float().unsqueeze(1)\n",
        "    den = torch.exp(torch.arange(0,embd_dims,2)* -(math.log(10000.0)/embd_dims))\n",
        "    self.pe[:,0::2] = torch.sin(pos*den)\n",
        "    self.pe[:,1::2] = torch.cos(pos*den)\n",
        "    self.pe = self.pe.unsqueeze(0)\n",
        "\n",
        "  def forward(self,x):\n",
        "    return x + self.pe[:,:x.size(1)]"
      ],
      "metadata": {
        "id": "5hNO052DhNWz"
      },
      "execution_count": 31,
      "outputs": []
    },
    {
      "cell_type": "code",
      "source": [
        "class Encoder(nn.Module):\n",
        "  def __init__(self,d_model,heads,d_ff,vocab_size,dropouts=0.1,max_len=100,N_layers=4):\n",
        "    super().__init__()\n",
        "    self.embed = nn.Embedding(vocab_size,d_model)\n",
        "    self.p_enc = PositionalEncoding(d_model,max_len)\n",
        "    self.layers = nn.ModuleList([EncoderLayer(d_model,heads,d_ff,dropouts) for layer in range(N_layers)])\n",
        "    self.norm = nn.LayerNorm(d_model)\n",
        "\n",
        "  def forward(self,src):\n",
        "    embedded = self.embed(src) * math.sqrt(self.embed.embedding_dim)\n",
        "    x = self.p_enc(embedded)\n",
        "    for layer in self.layers:\n",
        "      x = layer(x)\n",
        "    return self.norm(x)"
      ],
      "metadata": {
        "id": "van1uqmtxf66"
      },
      "execution_count": 32,
      "outputs": []
    },
    {
      "cell_type": "code",
      "source": [
        "def generate_data(num_samples, seq_len=10, vocab_size=50):\n",
        "    X = torch.randint(1, vocab_size, (num_samples, seq_len))\n",
        "    y = (X.sum(dim=1) % 2).long()  # 0 if sum even, 1 if odd\n",
        "    return X, y"
      ],
      "metadata": {
        "id": "9gNJejJ9CIeZ"
      },
      "execution_count": 33,
      "outputs": []
    },
    {
      "cell_type": "code",
      "source": [
        "class EncoderClassifier(nn.Module):\n",
        "  def __init__(self,d_model=128,heads=4,d_ff=256,vocab_size=50,n_classes=2):\n",
        "    super().__init__()\n",
        "    self.encoder = Encoder(d_model,heads,d_ff,vocab_size)\n",
        "    self.fc_out = nn.Linear(d_model,n_classes)\n",
        "\n",
        "  def forward(self,src):\n",
        "    enc_out = self.encoder(src)\n",
        "    cls_token = enc_out[:,0,:]\n",
        "    return self.fc_out(cls_token)"
      ],
      "metadata": {
        "id": "GgwrjQusFsl0"
      },
      "execution_count": 34,
      "outputs": []
    },
    {
      "cell_type": "code",
      "source": [
        "model = EncoderClassifier()\n",
        "criterion = nn.CrossEntropyLoss()\n",
        "optimizer = optim.Adam(model.parameters(),lr=1e-3)\n",
        "\n",
        "X,y = generate_data(num_samples=100)\n",
        "train_data = list(zip(X,y))\n",
        "\n",
        "epochs=8\n",
        "for epoch in range(epochs):\n",
        "  total_loss = 0\n",
        "  for xb,yb in tqdm(train_data):\n",
        "    xb,yb = xb.unsqueeze(0),yb.unsqueeze(0)\n",
        "    optimizer.zero_grad()\n",
        "    pred = model(xb)\n",
        "    loss = criterion(pred,yb)\n",
        "    loss.backward()\n",
        "    optimizer.step()\n",
        "    total_loss += loss.item()\n",
        "  print(f'\\nEpoch {epoch+1}, Loss: {total_loss/len(train_data):.2f}')"
      ],
      "metadata": {
        "colab": {
          "base_uri": "https://localhost:8080/"
        },
        "id": "m5GkNC8KJUKk",
        "outputId": "31ad531a-1c0b-46db-c632-1074414b928d"
      },
      "execution_count": 41,
      "outputs": [
        {
          "output_type": "stream",
          "name": "stderr",
          "text": [
            "100%|██████████| 100/100 [00:02<00:00, 48.69it/s]\n"
          ]
        },
        {
          "output_type": "stream",
          "name": "stdout",
          "text": [
            "\n",
            "Epoch 1, Loss: 0.84\n"
          ]
        },
        {
          "output_type": "stream",
          "name": "stderr",
          "text": [
            "100%|██████████| 100/100 [00:01<00:00, 56.98it/s]\n"
          ]
        },
        {
          "output_type": "stream",
          "name": "stdout",
          "text": [
            "\n",
            "Epoch 2, Loss: 0.72\n"
          ]
        },
        {
          "output_type": "stream",
          "name": "stderr",
          "text": [
            "100%|██████████| 100/100 [00:01<00:00, 56.63it/s]\n"
          ]
        },
        {
          "output_type": "stream",
          "name": "stdout",
          "text": [
            "\n",
            "Epoch 3, Loss: 0.64\n"
          ]
        },
        {
          "output_type": "stream",
          "name": "stderr",
          "text": [
            "100%|██████████| 100/100 [00:01<00:00, 57.10it/s]\n"
          ]
        },
        {
          "output_type": "stream",
          "name": "stdout",
          "text": [
            "\n",
            "Epoch 4, Loss: 0.62\n"
          ]
        },
        {
          "output_type": "stream",
          "name": "stderr",
          "text": [
            "100%|██████████| 100/100 [00:01<00:00, 56.71it/s]\n"
          ]
        },
        {
          "output_type": "stream",
          "name": "stdout",
          "text": [
            "\n",
            "Epoch 5, Loss: 0.58\n"
          ]
        },
        {
          "output_type": "stream",
          "name": "stderr",
          "text": [
            "100%|██████████| 100/100 [00:01<00:00, 56.21it/s]\n"
          ]
        },
        {
          "output_type": "stream",
          "name": "stdout",
          "text": [
            "\n",
            "Epoch 6, Loss: 0.45\n"
          ]
        },
        {
          "output_type": "stream",
          "name": "stderr",
          "text": [
            "100%|██████████| 100/100 [00:02<00:00, 36.94it/s]\n"
          ]
        },
        {
          "output_type": "stream",
          "name": "stdout",
          "text": [
            "\n",
            "Epoch 7, Loss: 0.43\n"
          ]
        },
        {
          "output_type": "stream",
          "name": "stderr",
          "text": [
            "100%|██████████| 100/100 [00:01<00:00, 55.09it/s]"
          ]
        },
        {
          "output_type": "stream",
          "name": "stdout",
          "text": [
            "\n",
            "Epoch 8, Loss: 0.39\n"
          ]
        },
        {
          "output_type": "stream",
          "name": "stderr",
          "text": [
            "\n"
          ]
        }
      ]
    }
  ]
}