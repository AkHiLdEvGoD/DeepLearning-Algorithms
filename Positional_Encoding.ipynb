{
  "nbformat": 4,
  "nbformat_minor": 0,
  "metadata": {
    "colab": {
      "provenance": [],
      "authorship_tag": "ABX9TyPI6M08nge/fu8YyNlzuYp2",
      "include_colab_link": true
    },
    "kernelspec": {
      "name": "python3",
      "display_name": "Python 3"
    },
    "language_info": {
      "name": "python"
    }
  },
  "cells": [
    {
      "cell_type": "markdown",
      "metadata": {
        "id": "view-in-github",
        "colab_type": "text"
      },
      "source": [
        "<a href=\"https://colab.research.google.com/github/AkHiLdEvGoD/DeepLearning-Algorithms/blob/main/Positional_Encoding.ipynb\" target=\"_parent\"><img src=\"https://colab.research.google.com/assets/colab-badge.svg\" alt=\"Open In Colab\"/></a>"
      ]
    },
    {
      "cell_type": "code",
      "execution_count": 3,
      "metadata": {
        "id": "u5Lksc-19Amk"
      },
      "outputs": [],
      "source": [
        "import torch\n",
        "import torch.nn as nn\n",
        "import math"
      ]
    },
    {
      "cell_type": "code",
      "source": [
        "batch_size = 2\n",
        "seq_len = 4\n",
        "embd_dims = 8\n",
        "\n",
        "X = torch.randn(batch_size,seq_len,embd_dims)"
      ],
      "metadata": {
        "id": "taK_kazwg097"
      },
      "execution_count": 19,
      "outputs": []
    },
    {
      "cell_type": "code",
      "source": [
        "class PositionalEncoding(nn.Module):\n",
        "  def __init__(self,embd_dims,max_len=5000):\n",
        "    super().__init__()\n",
        "    self.pe = torch.zeros(max_len,embd_dims)\n",
        "\n",
        "    # for p in range(max_len):                                                  # Brute force approach\n",
        "    #   for i in range(embd_dims/2):\n",
        "    #     pos = p.float()\n",
        "    #     den = torch.exp(2*i * (-math.log(10000)/embd_dims))\n",
        "    #     pe[p,2*i] = torch.sin(pos/den)\n",
        "    #     pe[p,2*i+1] = torch.cos(pos/den)\n",
        "\n",
        "    pos = torch.arange(0,max_len).float().unsqueeze(1)                          # Vectorized and optimized approach\n",
        "    den = torch.exp(torch.arange(0,embd_dims,2).float() * (-math.log(10000)/embd_dims))\n",
        "    self.pe[:,0::2] = torch.sin(pos/den)\n",
        "    self.pe[:,1::2] = torch.cos(pos/den)\n",
        "    self.pe = self.pe.unsqueeze(0)\n",
        "\n",
        "  def forward(self,X):\n",
        "    seq_len = X.shape[1]\n",
        "    return self.pe,X + self.pe[:,:seq_len]"
      ],
      "metadata": {
        "id": "nvfMQDdmgq4D"
      },
      "execution_count": 20,
      "outputs": []
    },
    {
      "cell_type": "code",
      "source": [
        "Pe = PositionalEncoding(embd_dims)\n",
        "pe,out = Pe(X)\n",
        "pe"
      ],
      "metadata": {
        "colab": {
          "base_uri": "https://localhost:8080/"
        },
        "id": "m313-gchpwpB",
        "outputId": "f77e705d-2038-4c8a-e5be-4b2ac46e1b77"
      },
      "execution_count": 25,
      "outputs": [
        {
          "output_type": "execute_result",
          "data": {
            "text/plain": [
              "tensor([[[ 0.0000,  1.0000,  0.0000,  ...,  1.0000,  0.0000,  1.0000],\n",
              "         [ 0.8415,  0.5403, -0.5440,  ...,  0.8623,  0.8269,  0.5623],\n",
              "         [ 0.9093, -0.4161,  0.9129,  ...,  0.4872,  0.9300, -0.3676],\n",
              "         ...,\n",
              "         [ 0.9563, -0.2925, -0.1680,  ..., -0.1560,  0.8757, -0.4829],\n",
              "         [ 0.2705, -0.9627, -0.3953,  ..., -0.6347,  0.0932, -0.9957],\n",
              "         [-0.6639, -0.7478,  0.8314,  ..., -0.9386, -0.7709, -0.6370]]])"
            ]
          },
          "metadata": {},
          "execution_count": 25
        }
      ]
    },
    {
      "cell_type": "code",
      "source": [
        "pe"
      ],
      "metadata": {
        "colab": {
          "base_uri": "https://localhost:8080/"
        },
        "id": "Wah1zE23v3TF",
        "outputId": "bf572383-46e6-4f61-84b9-143e3689aef2"
      },
      "execution_count": 22,
      "outputs": [
        {
          "output_type": "execute_result",
          "data": {
            "text/plain": [
              "tensor([[[ 0.0000,  1.0000,  0.0000,  ...,  1.0000,  0.0000,  1.0000],\n",
              "         [ 0.8415,  0.5403, -0.5440,  ...,  0.8623,  0.8269,  0.5623],\n",
              "         [ 0.9093, -0.4161,  0.9129,  ...,  0.4872,  0.9300, -0.3676],\n",
              "         ...,\n",
              "         [ 0.9563, -0.2925, -0.1680,  ..., -0.1560,  0.8757, -0.4829],\n",
              "         [ 0.2705, -0.9627, -0.3953,  ..., -0.6347,  0.0932, -0.9957],\n",
              "         [-0.6639, -0.7478,  0.8314,  ..., -0.9386, -0.7709, -0.6370]]])"
            ]
          },
          "metadata": {},
          "execution_count": 22
        }
      ]
    },
    {
      "cell_type": "code",
      "source": [
        "out"
      ],
      "metadata": {
        "colab": {
          "base_uri": "https://localhost:8080/"
        },
        "id": "uFIhNz21waFw",
        "outputId": "cf7745c7-d57b-4566-98ab-ca645fc30b88"
      },
      "execution_count": 24,
      "outputs": [
        {
          "output_type": "execute_result",
          "data": {
            "text/plain": [
              "tensor([[[-0.5386,  2.2538,  0.6005,  1.4478, -1.5772,  0.6203,  0.3477,\n",
              "           0.9727],\n",
              "         [ 1.8495, -0.3715, -0.8082, -2.9667,  0.3308,  1.3642,  1.2346,\n",
              "           0.1607],\n",
              "         [ 0.0233, -1.4111,  0.7780, -0.1685, -2.1223, -0.5651,  1.4458,\n",
              "           0.2101],\n",
              "         [ 0.2470, -0.3335, -0.3039, -0.5433, -1.2888, -0.4704, -1.1209,\n",
              "          -0.4416]],\n",
              "\n",
              "        [[ 0.3593, -0.3690,  1.5370,  2.4009, -1.3833,  1.7282, -0.8502,\n",
              "           0.0694],\n",
              "         [ 2.7755,  0.3159, -1.5607, -0.6250,  0.1782, -0.1329,  0.9477,\n",
              "           1.0594],\n",
              "         [-0.4505, -0.2123,  0.5060,  0.0520, -1.3050,  0.0451, -0.3667,\n",
              "          -1.0179],\n",
              "         [ 0.2407,  0.5437, -1.2377, -1.5430, -1.4499,  0.4212, -0.9759,\n",
              "          -0.3293]]])"
            ]
          },
          "metadata": {},
          "execution_count": 24
        }
      ]
    },
    {
      "cell_type": "code",
      "source": [],
      "metadata": {
        "id": "xXTa5Sjuwd9E"
      },
      "execution_count": null,
      "outputs": []
    }
  ]
}