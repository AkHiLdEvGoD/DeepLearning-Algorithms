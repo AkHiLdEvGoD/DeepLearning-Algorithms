{
  "nbformat": 4,
  "nbformat_minor": 0,
  "metadata": {
    "colab": {
      "provenance": [],
      "gpuType": "T4",
      "authorship_tag": "ABX9TyN6gIFwIXDhdCHbl9K0RkTs"
    },
    "kernelspec": {
      "name": "python3",
      "display_name": "Python 3"
    },
    "language_info": {
      "name": "python"
    },
    "accelerator": "GPU"
  },
  "cells": [
    {
      "cell_type": "code",
      "execution_count": 1,
      "metadata": {
        "id": "Wy0VruVNjLNC"
      },
      "outputs": [],
      "source": [
        "import nltk\n",
        "import pandas as pd\n",
        "import torch\n",
        "from torch.utils.data import Dataset, DataLoader\n",
        "import torch.nn as nn\n",
        "from nltk.tokenize import word_tokenize\n",
        "from collections import Counter\n",
        "import re"
      ]
    },
    {
      "cell_type": "code",
      "source": [
        "document = \"\"\"About the Program\n",
        "What is the course fee for  Data Science Mentorship Program (DSMP 2023)\n",
        "The course follows a monthly subscription model where you have to make monthly payments of Rs 799/month.\n",
        "What is the total duration of the course?\n",
        "The total duration of the course is 7 months. So the total course fee becomes 799*7 = Rs 5600(approx.)\n",
        "What is the syllabus of the mentorship program?\n",
        "We will be covering the following modules:\n",
        "Python Fundamentals\n",
        "Python libraries for Data Science\n",
        "Data Analysis\n",
        "SQL for Data Science\n",
        "Maths for Machine Learning\n",
        "ML Algorithms\n",
        "Practical ML\n",
        "MLOPs\n",
        "Case studies\n",
        "You can check the detailed syllabus here - https://learnwith.campusx.in/courses/CampusX-Data-Science-Mentorship-Program-637339afe4b0615a1bbed390\n",
        "Will Deep Learning and NLP be a part of this program?\n",
        "No, NLP and Deep Learning both are not a part of this program’s curriculum.\n",
        "What if I miss a live session? Will I get a recording of the session?\n",
        "Yes all our sessions are recorded, so even if you miss a session you can go back and watch the recording.\n",
        "Where can I find the class schedule?\n",
        "Checkout this google sheet to see month by month time table of the course - https://docs.google.com/spreadsheets/d/16OoTax_A6ORAeCg4emgexhqqPv3noQPYKU7RJ6ArOzk/edit?usp=sharing.\n",
        "What is the time duration of all the live sessions?\n",
        "Roughly, all the sessions last 2 hours.\n",
        "What is the language spoken by the instructor during the sessions?\n",
        "Hinglish\n",
        "How will I be informed about the upcoming class?\n",
        "You will get a mail from our side before every paid session once you become a paid user.\n",
        "Can I do this course if I am from a non-tech background?\n",
        "Yes, absolutely.\n",
        "I am late, can I join the program in the middle?\n",
        "Absolutely, you can join the program anytime.\n",
        "If I join/pay in the middle, will I be able to see all the past lectures?\n",
        "Yes, once you make the payment you will be able to see all the past content in your dashboard.\n",
        "Where do I have to submit the task?\n",
        "You don’t have to submit the task. We will provide you with the solutions, you have to self evaluate the task yourself.\n",
        "Will we do case studies in the program?\n",
        "Yes.\n",
        "Where can we contact you?\n",
        "You can mail us at nitish.campusx@gmail.com\n",
        "Payment/Registration related questions\n",
        "Where do we have to make our payments? Your YouTube channel or website?\n",
        "You have to make all your monthly payments on our website. Here is the link for our website - https://learnwith.campusx.in/\n",
        "Can we pay the entire amount of Rs 5600 all at once?\n",
        "Unfortunately no, the program follows a monthly subscription model.\n",
        "What is the validity of monthly subscription? Suppose if I pay on 15th Jan, then do I have to pay again on 1st Feb or 15th Feb\n",
        "15th Feb. The validity period is 30 days from the day you make the payment. So essentially you can join anytime you don’t have to wait for a month to end.\n",
        "What if I don’t like the course after making the payment. What is the refund policy?\n",
        "You get a 7 days refund period from the day you have made the payment.\n",
        "I am living outside India and I am not able to make the payment on the website, what should I do?\n",
        "You have to contact us by sending a mail at nitish.campusx@gmail.com\n",
        "Post registration queries\n",
        "Till when can I view the paid videos on the website?\n",
        "This one is tricky, so read carefully. You can watch the videos till your subscription is valid. Suppose you have purchased subscription on 21st Jan, you will be able to watch all the past paid sessions in the period of 21st Jan to 20th Feb. But after 21st Feb you will have to purchase the subscription again.\n",
        "But once the course is over and you have paid us Rs 5600(or 7 installments of Rs 799) you will be able to watch the paid sessions till Aug 2024.\n",
        "Why lifetime validity is not provided?\n",
        "Because of the low course fee.\n",
        "Where can I reach out in case of a doubt after the session?\n",
        "You will have to fill a google form provided in your dashboard and our team will contact you for a 1 on 1 doubt clearance session\n",
        "If I join the program late, can I still ask past week doubts?\n",
        "Yes, just select past week doubt in the doubt clearance google form.\n",
        "I am living outside India and I am not able to make the payment on the website, what should I do?\n",
        "You have to contact us by sending a mail at nitish.campusx@gmai.com\n",
        "Certificate and Placement Assistance related queries\n",
        "What is the criteria to get the certificate?\n",
        "There are 2 criterias:\n",
        "You have to pay the entire fee of Rs 5600\n",
        "You have to attempt all the course assessments.\n",
        "I am joining late. How can I pay payment of the earlier months?\n",
        "You will get a link to pay fee of earlier months in your dashboard once you pay for the current month.\n",
        "I have read that Placement assistance is a part of this program. What comes under Placement assistance?\n",
        "This is to clarify that Placement assistance does not mean Placement guarantee. So we dont guarantee you any jobs or for that matter even interview calls. So if you are planning to join this course just for placements, I am afraid you will be disappointed. Here is what comes under placement assistance\n",
        "Portfolio Building sessions\n",
        "Soft skill sessions\n",
        "Sessions with industry mentors\n",
        "Discussion on Job hunting strategies\n",
        "\"\"\""
      ],
      "metadata": {
        "id": "UVjYFu_tahYe"
      },
      "execution_count": 2,
      "outputs": []
    },
    {
      "cell_type": "code",
      "source": [
        "nltk.download('punkt')\n",
        "nltk.download('punkt_tab')"
      ],
      "metadata": {
        "colab": {
          "base_uri": "https://localhost:8080/"
        },
        "id": "CtipPrG6amhD",
        "outputId": "a210dd70-d004-478f-d125-9bee1b43df58"
      },
      "execution_count": 3,
      "outputs": [
        {
          "output_type": "stream",
          "name": "stderr",
          "text": [
            "[nltk_data] Downloading package punkt to /root/nltk_data...\n",
            "[nltk_data]   Unzipping tokenizers/punkt.zip.\n",
            "[nltk_data] Downloading package punkt_tab to /root/nltk_data...\n",
            "[nltk_data]   Unzipping tokenizers/punkt_tab.zip.\n"
          ]
        },
        {
          "output_type": "execute_result",
          "data": {
            "text/plain": [
              "True"
            ]
          },
          "metadata": {},
          "execution_count": 3
        }
      ]
    },
    {
      "cell_type": "code",
      "source": [
        "regex = re.compile(r'([^.])([.!?]+)([\\s]*$)', re.MULTILINE)\n",
        "document = regex.sub(r'\\1\\3', document)"
      ],
      "metadata": {
        "collapsed": true,
        "id": "Q8jRxa-sivmU"
      },
      "execution_count": 4,
      "outputs": []
    },
    {
      "cell_type": "code",
      "source": [
        "tokenized_words = word_tokenize(document.lower())"
      ],
      "metadata": {
        "id": "nCI4Mqsuayzl"
      },
      "execution_count": 5,
      "outputs": []
    },
    {
      "cell_type": "code",
      "source": [
        "vocab = {'<UNK>' : 0}\n",
        "\n",
        "for word in Counter(tokenized_words).keys():\n",
        "  vocab[word] = len(vocab)"
      ],
      "metadata": {
        "id": "REDNWlQBbjXE"
      },
      "execution_count": 6,
      "outputs": []
    },
    {
      "cell_type": "code",
      "source": [
        "input_sent = document.split('\\n')"
      ],
      "metadata": {
        "id": "R30qnzinkTVf"
      },
      "execution_count": 7,
      "outputs": []
    },
    {
      "cell_type": "code",
      "source": [
        "def text_to_index(vocab,sent):\n",
        "  numerical_sent = []\n",
        "  for token in sent:\n",
        "    if token in vocab:\n",
        "      numerical_sent.append(vocab[token])\n",
        "    else:\n",
        "      numerical_sent.append(vocab['<UNK>'])\n",
        "  return numerical_sent"
      ],
      "metadata": {
        "id": "n754iL4Ictqs"
      },
      "execution_count": 8,
      "outputs": []
    },
    {
      "cell_type": "code",
      "source": [
        "input_numerical_sent = []\n",
        "\n",
        "for sent in input_sent:\n",
        "  input_numerical_sent.append(text_to_index(vocab,word_tokenize(sent.lower())))"
      ],
      "metadata": {
        "id": "qmycGI7-lMOm"
      },
      "execution_count": 9,
      "outputs": []
    },
    {
      "cell_type": "code",
      "source": [
        "training_sequence = []\n",
        "for sent in input_numerical_sent:\n",
        "  for i in range(1,len(sent)):\n",
        "    training_sequence.append(sent[:i+1])"
      ],
      "metadata": {
        "id": "ywZeZJr4lks_"
      },
      "execution_count": 10,
      "outputs": []
    },
    {
      "cell_type": "code",
      "source": [
        "len(training_sequence)"
      ],
      "metadata": {
        "colab": {
          "base_uri": "https://localhost:8080/"
        },
        "id": "1SHBbwz0ll1u",
        "outputId": "ebf276b6-e569-4be6-b792-0064b881b00f"
      },
      "execution_count": 11,
      "outputs": [
        {
          "output_type": "execute_result",
          "data": {
            "text/plain": [
              "896"
            ]
          },
          "metadata": {},
          "execution_count": 11
        }
      ]
    },
    {
      "cell_type": "code",
      "source": [
        "len_list = []\n",
        "for seq in training_sequence:\n",
        "  len_list.append(len(seq))\n",
        "\n",
        "max(len_list)"
      ],
      "metadata": {
        "colab": {
          "base_uri": "https://localhost:8080/"
        },
        "id": "rF3i5ozGGUWd",
        "outputId": "682d3903-0bc6-4e15-c4c0-192a432fda55"
      },
      "execution_count": 12,
      "outputs": [
        {
          "output_type": "execute_result",
          "data": {
            "text/plain": [
              "61"
            ]
          },
          "metadata": {},
          "execution_count": 12
        }
      ]
    },
    {
      "cell_type": "code",
      "source": [
        "padding_seq = []\n",
        "for seq in training_sequence:\n",
        "  padding_seq.append([0]*(max(len_list) - len(seq))+seq)"
      ],
      "metadata": {
        "id": "TGPfUi8nHMqD"
      },
      "execution_count": 13,
      "outputs": []
    },
    {
      "cell_type": "code",
      "source": [
        "train_data = torch.tensor(padding_seq,dtype=torch.long)"
      ],
      "metadata": {
        "id": "0XhL55xfHx6f"
      },
      "execution_count": 14,
      "outputs": []
    },
    {
      "cell_type": "code",
      "source": [
        "X = train_data[:,:-1]\n",
        "y = train_data[:,-1]"
      ],
      "metadata": {
        "id": "TWMLvXeuHzBT"
      },
      "execution_count": 15,
      "outputs": []
    },
    {
      "cell_type": "code",
      "source": [
        "class trainData(Dataset):\n",
        "  def __init__(self,X,y) -> None:\n",
        "    self.X = X\n",
        "    self.y = y\n",
        "\n",
        "  def __len__(self):\n",
        "    return self.X.shape[0]\n",
        "\n",
        "  def __getitem__(self, index):\n",
        "    return self.X[index], self.y[index]"
      ],
      "metadata": {
        "id": "jVUvZ7PPIQ-8"
      },
      "execution_count": 16,
      "outputs": []
    },
    {
      "cell_type": "code",
      "source": [
        "data = trainData(X,y)"
      ],
      "metadata": {
        "id": "8wwDS7LYIbwE"
      },
      "execution_count": 17,
      "outputs": []
    },
    {
      "cell_type": "code",
      "source": [
        "dataloader = DataLoader(data,batch_size=32,shuffle=True,pin_memory=True)"
      ],
      "metadata": {
        "id": "6nuckSSZJOiT"
      },
      "execution_count": 18,
      "outputs": []
    },
    {
      "cell_type": "code",
      "source": [
        "class myLSTM(nn.Module):\n",
        "  def __init__(self,vocab_size) -> None:\n",
        "    super().__init__()\n",
        "    self.embedding = nn.Embedding(vocab_size,100)\n",
        "    self.lstm = nn.LSTM(100,150,batch_first=True)\n",
        "    self.linear = nn.Linear(150,vocab_size)\n",
        "\n",
        "  def forward(self,X):\n",
        "    embedded = self.embedding(X)\n",
        "    intermediate_hidden_outs,(final_hidden_state,cell_state) = self.lstm(embedded)\n",
        "    logits = self.linear(final_hidden_state.squeeze(0))\n",
        "\n",
        "    return logits"
      ],
      "metadata": {
        "id": "IK1A-3N2JPa-"
      },
      "execution_count": 19,
      "outputs": []
    },
    {
      "cell_type": "code",
      "source": [
        "model = myLSTM(len(vocab))\n",
        "device = torch.device(\"cuda\" if torch.cuda.is_available() else \"cpu\")\n",
        "model.to(device)\n",
        "learning_rate = 0.01\n",
        "epochs = 20\n",
        "optimizer = torch.optim.Adam(model.parameters(),lr = learning_rate)\n",
        "criterior = nn.CrossEntropyLoss()"
      ],
      "metadata": {
        "id": "C_j8BzjQNfwG"
      },
      "execution_count": 27,
      "outputs": []
    },
    {
      "cell_type": "code",
      "source": [
        "for epoch in range(epochs):\n",
        "  total_loss = 0\n",
        "  for X_batch,y_batch in dataloader:\n",
        "    X_batch,y_batch = X_batch.to(device),y_batch.to(device)\n",
        "\n",
        "    outs = model(X_batch)\n",
        "    loss = criterior(outs,y_batch)\n",
        "    optimizer.zero_grad()\n",
        "    loss.backward()\n",
        "    optimizer.step()\n",
        "\n",
        "    total_loss = total_loss + loss.item()\n",
        "\n",
        "  print(f\"Epoch: {epoch + 1}, Loss: {total_loss:.4f}\")"
      ],
      "metadata": {
        "colab": {
          "base_uri": "https://localhost:8080/"
        },
        "id": "5twZv52zPPqN",
        "outputId": "41de205c-61d7-40f0-cf50-3129fcfdfc24"
      },
      "execution_count": 28,
      "outputs": [
        {
          "output_type": "stream",
          "name": "stdout",
          "text": [
            "Epoch: 1, Loss: 146.7489\n",
            "Epoch: 2, Loss: 101.6657\n",
            "Epoch: 3, Loss: 60.4439\n",
            "Epoch: 4, Loss: 34.3429\n",
            "Epoch: 5, Loss: 19.9446\n",
            "Epoch: 6, Loss: 13.0103\n",
            "Epoch: 7, Loss: 9.3033\n",
            "Epoch: 8, Loss: 6.9152\n",
            "Epoch: 9, Loss: 5.5475\n",
            "Epoch: 10, Loss: 5.2563\n",
            "Epoch: 11, Loss: 4.6938\n",
            "Epoch: 12, Loss: 4.4281\n",
            "Epoch: 13, Loss: 4.3118\n",
            "Epoch: 14, Loss: 3.9976\n",
            "Epoch: 15, Loss: 3.8317\n",
            "Epoch: 16, Loss: 4.0021\n",
            "Epoch: 17, Loss: 3.9343\n",
            "Epoch: 18, Loss: 3.7673\n",
            "Epoch: 19, Loss: 3.8384\n",
            "Epoch: 20, Loss: 3.7675\n"
          ]
        }
      ]
    },
    {
      "cell_type": "code",
      "source": [
        "def predict(model,vocab,text):\n",
        "  tokenized = word_tokenize(text.lower())\n",
        "  indexed_text = text_to_index(vocab,tokenized)\n",
        "  # Move the input tensor to the same device as the model\n",
        "  padded_text =  torch.tensor([0] * (61 - len(indexed_text)) + indexed_text, dtype=torch.long).unsqueeze(0).to(next(model.parameters()).device)\n",
        "  with torch.no_grad():\n",
        "    logits = model(padded_text)\n",
        "    _,index = torch.max(logits,dim=1)\n",
        "\n",
        "  return text + \" \" + list(vocab.keys())[index]"
      ],
      "metadata": {
        "id": "U1dxqwyiPUfO"
      },
      "execution_count": 82,
      "outputs": []
    },
    {
      "cell_type": "code",
      "source": [
        "predict(model,vocab,'Can I do this course')"
      ],
      "metadata": {
        "colab": {
          "base_uri": "https://localhost:8080/",
          "height": 36
        },
        "id": "TkD3qJsDS0Yo",
        "outputId": "f6d730a7-9716-483a-ae93-138da7f0e2d3"
      },
      "execution_count": 84,
      "outputs": [
        {
          "output_type": "execute_result",
          "data": {
            "text/plain": [
              "'Can I do this course if'"
            ],
            "application/vnd.google.colaboratory.intrinsic+json": {
              "type": "string"
            }
          },
          "metadata": {},
          "execution_count": 84
        }
      ]
    },
    {
      "cell_type": "code",
      "source": [
        "import time\n",
        "\n",
        "num_tokens = 10\n",
        "input_text = \"You can watch the videos\"\n",
        "\n",
        "for i in range(num_tokens):\n",
        "  output_text = predict(model, vocab, input_text)\n",
        "  print(output_text)\n",
        "  input_text = output_text\n",
        "  time.sleep(0.5)"
      ],
      "metadata": {
        "colab": {
          "base_uri": "https://localhost:8080/"
        },
        "id": "oejSk8yyYV8f",
        "outputId": "b36dad37-26f9-4073-9606-2e723cd70f73"
      },
      "execution_count": 88,
      "outputs": [
        {
          "output_type": "stream",
          "name": "stdout",
          "text": [
            "You can watch the videos till\n",
            "You can watch the videos till your\n",
            "You can watch the videos till your subscription\n",
            "You can watch the videos till your subscription is\n",
            "You can watch the videos till your subscription is valid\n",
            "You can watch the videos till your subscription is valid .\n",
            "You can watch the videos till your subscription is valid . suppose\n",
            "You can watch the videos till your subscription is valid . suppose you\n",
            "You can watch the videos till your subscription is valid . suppose you have\n",
            "You can watch the videos till your subscription is valid . suppose you have purchased\n"
          ]
        }
      ]
    },
    {
      "cell_type": "code",
      "source": [
        "dataloader1 = DataLoader(data, batch_size=32, shuffle=False)"
      ],
      "metadata": {
        "id": "dOsJXF1bXsLg"
      },
      "execution_count": 67,
      "outputs": []
    },
    {
      "cell_type": "code",
      "source": [
        "def calculate_accuracy(model, dataloader, device):\n",
        "    model.eval()  # Set the model to evaluation mode\n",
        "    correct = 0\n",
        "    total = 0\n",
        "\n",
        "    with torch.no_grad():  # No need to compute gradients\n",
        "        for batch_x, batch_y in dataloader1:\n",
        "            batch_x, batch_y = batch_x.to(device), batch_y.to(device)\n",
        "\n",
        "            # Get model predictions\n",
        "            outputs = model(batch_x)\n",
        "\n",
        "            # Get the predicted word indices\n",
        "            _, predicted = torch.max(outputs, dim=1)\n",
        "\n",
        "            # Compare with actual labels\n",
        "            correct += (predicted == batch_y).sum().item()\n",
        "            total += batch_y.size(0)\n",
        "\n",
        "    accuracy = correct / total * 100\n",
        "    return accuracy\n",
        "\n",
        "# Compute accuracy\n",
        "accuracy = calculate_accuracy(model, dataloader, device)\n",
        "print(f\"Model Accuracy: {accuracy:.2f}%\")\n"
      ],
      "metadata": {
        "colab": {
          "base_uri": "https://localhost:8080/"
        },
        "id": "suGPe8FbTPEW",
        "outputId": "b6f71788-53c7-44f9-af7a-b16e796bd18e"
      },
      "execution_count": 68,
      "outputs": [
        {
          "output_type": "stream",
          "name": "stdout",
          "text": [
            "Model Accuracy: 95.42%\n"
          ]
        }
      ]
    }
  ]
}