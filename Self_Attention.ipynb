{
  "nbformat": 4,
  "nbformat_minor": 0,
  "metadata": {
    "colab": {
      "provenance": [],
      "authorship_tag": "ABX9TyPvuWnZW6XAPnc0wAGkqL5k",
      "include_colab_link": true
    },
    "kernelspec": {
      "name": "python3",
      "display_name": "Python 3"
    },
    "language_info": {
      "name": "python"
    }
  },
  "cells": [
    {
      "cell_type": "markdown",
      "metadata": {
        "id": "view-in-github",
        "colab_type": "text"
      },
      "source": [
        "<a href=\"https://colab.research.google.com/github/AkHiLdEvGoD/DeepLearning-Algorithms/blob/main/Self_Attention.ipynb\" target=\"_parent\"><img src=\"https://colab.research.google.com/assets/colab-badge.svg\" alt=\"Open In Colab\"/></a>"
      ]
    },
    {
      "cell_type": "code",
      "execution_count": 3,
      "metadata": {
        "id": "8sXo0UOBcdG1"
      },
      "outputs": [],
      "source": [
        "import torch\n",
        "import torch.nn as nn\n",
        "import torch.nn.functional as F\n",
        "import math"
      ]
    },
    {
      "cell_type": "code",
      "source": [
        "class SelfAttention(nn.Module):\n",
        "  def __init__(self,embd_dims):\n",
        "    super().__init__()\n",
        "    self.scale = math.sqrt(embd_dims)\n",
        "\n",
        "    self.Wq = nn.Linear(embd_dims,embd_dims)\n",
        "    self.Wk = nn.Linear(embd_dims,embd_dims)\n",
        "    self.Wv = nn.Linear(embd_dims,embd_dims)\n",
        "\n",
        "  def forward(self,x):\n",
        "    Q = self.Wq(x)\n",
        "    K = self.Wk(x)\n",
        "    V = self.Wv(x)\n",
        "\n",
        "    attn_scores = torch.matmul(Q,K.transpose(-2,-1))/self.scale\n",
        "    attn_weights = F.softmax(attn_scores,dim=-1)\n",
        "\n",
        "    out = torch.matmul(attn_weights,V)\n",
        "    return out,attn_weights"
      ],
      "metadata": {
        "id": "CHh-qdWqcrNF"
      },
      "execution_count": 4,
      "outputs": []
    },
    {
      "cell_type": "code",
      "source": [
        "batch_size = 5\n",
        "seq_len = 6\n",
        "embd_dims = 8\n",
        "\n",
        "x = torch.randn(batch_size,seq_len,embd_dims)\n",
        "sa = SelfAttention(embd_dims)\n",
        "out,attn_weights = sa(x)\n",
        "\n",
        "print(out.shape)\n",
        "print(attn_weights.shape)"
      ],
      "metadata": {
        "colab": {
          "base_uri": "https://localhost:8080/"
        },
        "id": "igTshycPiQX-",
        "outputId": "62ecf8a2-bb3b-4e73-9ee4-3a8aca4a14a2"
      },
      "execution_count": 7,
      "outputs": [
        {
          "output_type": "stream",
          "name": "stdout",
          "text": [
            "torch.Size([5, 6, 8])\n",
            "torch.Size([5, 6, 6])\n"
          ]
        }
      ]
    }
  ]
}